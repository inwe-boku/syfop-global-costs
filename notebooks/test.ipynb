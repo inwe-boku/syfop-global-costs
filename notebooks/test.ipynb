{
 "cells": [
  {
   "cell_type": "code",
   "execution_count": 1,
   "id": "66dfe06d-f5ed-42f7-b07e-f02b64b9e700",
   "metadata": {},
   "outputs": [],
   "source": [
    "import scipy\n",
    "import logging\n",
    "import atlite\n",
    "import numpy as np\n",
    "import xarray as xr\n",
    "import matplotlib.pyplot as plt"
   ]
  },
  {
   "cell_type": "code",
   "execution_count": 3,
   "id": "c5916a85-3e24-4f76-a13d-976430d1ea3b",
   "metadata": {},
   "outputs": [],
   "source": [
    "from init import *"
   ]
  },
  {
   "cell_type": "code",
   "execution_count": 5,
   "id": "b0f2d245-405f-403a-8729-882c5e6214de",
   "metadata": {},
   "outputs": [],
   "source": [
    "from src.config import *"
   ]
  },
  {
   "cell_type": "code",
   "execution_count": 11,
   "id": "4a1ee683-0709-45cd-a51a-7852747d3602",
   "metadata": {},
   "outputs": [],
   "source": [
    "wind = xr.open_mfdataset([INTERIM_DIR / 'wind' / f'wind_2012-{month:02d}.nc' for month in MONTHS])"
   ]
  }
 ],
 "metadata": {
  "kernelspec": {
   "display_name": "Python [conda env:micromamba-syfop-global-costs]",
   "language": "python",
   "name": "conda-env-micromamba-syfop-global-costs-py"
  },
  "language_info": {
   "codemirror_mode": {
    "name": "ipython",
    "version": 3
   },
   "file_extension": ".py",
   "mimetype": "text/x-python",
   "name": "python",
   "nbconvert_exporter": "python",
   "pygments_lexer": "ipython3",
   "version": "3.9.15"
  }
 },
 "nbformat": 4,
 "nbformat_minor": 5
}
